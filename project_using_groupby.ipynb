{
 "cells": [
  {
   "cell_type": "markdown",
   "id": "f89f0109",
   "metadata": {},
   "source": [
    "# Data Analytics using Python"
   ]
  },
  {
   "cell_type": "raw",
   "id": "c633bfb0",
   "metadata": {},
   "source": [
    "Mandisa Nkosi is working with with a political party that needs to decide how best to invest its available advertising budget. Mandisa believes she can gain some insights into potential advertising avenues by analysing films that are available on streaming platforms.\n",
    "\n",
    "This analysis uses the movies_merge.xlsx and ott_merge.csv data sets.\n",
    "\n",
    "Objectives:\n",
    "1. How many films from each year (released from 2012 to the present) were watched on Netflix?\n",
    "2. What is the average runtime of movies released each year?\n",
    "3. What are the best and worst reviews that movies released each year received on Rotten Tomatoes?\n",
    "\n",
    "The insights gained from the analysis will inform the campaign, promotional materials, slogans, and language the political party will use to reach potential voters"
   ]
  },
  {
   "cell_type": "markdown",
   "id": "cc867abe",
   "metadata": {},
   "source": [
    "# Prepare the workstation"
   ]
  },
  {
   "cell_type": "code",
   "execution_count": 1,
   "id": "9584fa68",
   "metadata": {},
   "outputs": [
    {
     "name": "stdout",
     "output_type": "stream",
     "text": [
      "Index(['ID', 'Title', 'Year', 'Age', 'IMDb', 'Rotten Tomatoes', 'Directors',\n",
      "       'Genres', 'Country', 'Language', 'Runtime'],\n",
      "      dtype='object')\n",
      "(16744, 11)\n",
      "Index(['ID', 'Netflix', 'Hulu', 'Prime Video', 'Disney+'], dtype='object')\n",
      "(16744, 5)\n",
      "Index(['ID', 'Title', 'Year', 'Age', 'IMDb', 'Rotten Tomatoes', 'Directors',\n",
      "       'Genres', 'Country', 'Language', 'Runtime', 'Netflix', 'Hulu',\n",
      "       'Prime Video', 'Disney+'],\n",
      "      dtype='object')\n",
      "(16744, 15)\n"
     ]
    }
   ],
   "source": [
    "# Import pandas\n",
    "import pandas as pd\n",
    "\n",
    "# Load the excel data\n",
    "movies = pd.read_excel('movies_merge.xlsx')\n",
    "\n",
    "# Load the csv data\n",
    "ott = pd.read_csv('ott_merge.csv')\n",
    "\n",
    "# View data imported\n",
    "print(movies.columns)\n",
    "print(movies.shape)\n",
    "print(ott.columns)\n",
    "print(ott.shape)\n",
    "\n",
    "# Merge the two dataframe\n",
    "movies_ott = pd.merge(movies, ott, how='left', on='ID')\n",
    "\n",
    "# View the merged dataframe\n",
    "print(movies_ott.columns)\n",
    "print(movies_ott.shape)"
   ]
  },
  {
   "cell_type": "markdown",
   "id": "77cc1882",
   "metadata": {},
   "source": [
    "# 1. How many films from each year (release frm 2012 to the present) were watched on Netflix?"
   ]
  },
  {
   "cell_type": "code",
   "execution_count": 2,
   "id": "269db9ef",
   "metadata": {},
   "outputs": [
    {
     "data": {
      "text/html": [
       "<div>\n",
       "<style scoped>\n",
       "    .dataframe tbody tr th:only-of-type {\n",
       "        vertical-align: middle;\n",
       "    }\n",
       "\n",
       "    .dataframe tbody tr th {\n",
       "        vertical-align: top;\n",
       "    }\n",
       "\n",
       "    .dataframe thead th {\n",
       "        text-align: right;\n",
       "    }\n",
       "</style>\n",
       "<table border=\"1\" class=\"dataframe\">\n",
       "  <thead>\n",
       "    <tr style=\"text-align: right;\">\n",
       "      <th></th>\n",
       "      <th>Year</th>\n",
       "      <th>Netflix</th>\n",
       "    </tr>\n",
       "  </thead>\n",
       "  <tbody>\n",
       "    <tr>\n",
       "      <th>100</th>\n",
       "      <td>2012</td>\n",
       "      <td>195</td>\n",
       "    </tr>\n",
       "    <tr>\n",
       "      <th>101</th>\n",
       "      <td>2013</td>\n",
       "      <td>200</td>\n",
       "    </tr>\n",
       "    <tr>\n",
       "      <th>102</th>\n",
       "      <td>2014</td>\n",
       "      <td>202</td>\n",
       "    </tr>\n",
       "    <tr>\n",
       "      <th>103</th>\n",
       "      <td>2015</td>\n",
       "      <td>252</td>\n",
       "    </tr>\n",
       "    <tr>\n",
       "      <th>104</th>\n",
       "      <td>2016</td>\n",
       "      <td>236</td>\n",
       "    </tr>\n",
       "    <tr>\n",
       "      <th>105</th>\n",
       "      <td>2017</td>\n",
       "      <td>294</td>\n",
       "    </tr>\n",
       "    <tr>\n",
       "      <th>106</th>\n",
       "      <td>2018</td>\n",
       "      <td>307</td>\n",
       "    </tr>\n",
       "    <tr>\n",
       "      <th>107</th>\n",
       "      <td>2019</td>\n",
       "      <td>138</td>\n",
       "    </tr>\n",
       "    <tr>\n",
       "      <th>108</th>\n",
       "      <td>2020</td>\n",
       "      <td>31</td>\n",
       "    </tr>\n",
       "  </tbody>\n",
       "</table>\n",
       "</div>"
      ],
      "text/plain": [
       "     Year  Netflix\n",
       "100  2012      195\n",
       "101  2013      200\n",
       "102  2014      202\n",
       "103  2015      252\n",
       "104  2016      236\n",
       "105  2017      294\n",
       "106  2018      307\n",
       "107  2019      138\n",
       "108  2020       31"
      ]
     },
     "execution_count": 2,
     "metadata": {},
     "output_type": "execute_result"
    }
   ],
   "source": [
    "# Determine the number of movies watched on Netflix since 2012\n",
    "movies_gpby = movies_ott.groupby(['Year'])['Netflix'].agg('sum').reset_index()\n",
    "movies_gpby[movies_gpby['Year'] >= 2012]"
   ]
  },
  {
   "cell_type": "markdown",
   "id": "c008e859",
   "metadata": {},
   "source": [
    "# 2. What is the runtime of movies released each year"
   ]
  },
  {
   "cell_type": "code",
   "execution_count": 3,
   "id": "ee083d44",
   "metadata": {},
   "outputs": [
    {
     "data": {
      "text/html": [
       "<div>\n",
       "<style scoped>\n",
       "    .dataframe tbody tr th:only-of-type {\n",
       "        vertical-align: middle;\n",
       "    }\n",
       "\n",
       "    .dataframe tbody tr th {\n",
       "        vertical-align: top;\n",
       "    }\n",
       "\n",
       "    .dataframe thead th {\n",
       "        text-align: right;\n",
       "    }\n",
       "</style>\n",
       "<table border=\"1\" class=\"dataframe\">\n",
       "  <thead>\n",
       "    <tr style=\"text-align: right;\">\n",
       "      <th></th>\n",
       "      <th>Year</th>\n",
       "      <th>Runtime</th>\n",
       "    </tr>\n",
       "  </thead>\n",
       "  <tbody>\n",
       "    <tr>\n",
       "      <th>100</th>\n",
       "      <td>2012</td>\n",
       "      <td>90.511714</td>\n",
       "    </tr>\n",
       "    <tr>\n",
       "      <th>101</th>\n",
       "      <td>2013</td>\n",
       "      <td>91.545940</td>\n",
       "    </tr>\n",
       "    <tr>\n",
       "      <th>102</th>\n",
       "      <td>2014</td>\n",
       "      <td>92.995763</td>\n",
       "    </tr>\n",
       "    <tr>\n",
       "      <th>103</th>\n",
       "      <td>2015</td>\n",
       "      <td>92.914646</td>\n",
       "    </tr>\n",
       "    <tr>\n",
       "      <th>104</th>\n",
       "      <td>2016</td>\n",
       "      <td>93.992140</td>\n",
       "    </tr>\n",
       "    <tr>\n",
       "      <th>105</th>\n",
       "      <td>2017</td>\n",
       "      <td>94.460961</td>\n",
       "    </tr>\n",
       "    <tr>\n",
       "      <th>106</th>\n",
       "      <td>2018</td>\n",
       "      <td>94.635678</td>\n",
       "    </tr>\n",
       "    <tr>\n",
       "      <th>107</th>\n",
       "      <td>2019</td>\n",
       "      <td>93.410413</td>\n",
       "    </tr>\n",
       "    <tr>\n",
       "      <th>108</th>\n",
       "      <td>2020</td>\n",
       "      <td>93.976562</td>\n",
       "    </tr>\n",
       "  </tbody>\n",
       "</table>\n",
       "</div>"
      ],
      "text/plain": [
       "     Year    Runtime\n",
       "100  2012  90.511714\n",
       "101  2013  91.545940\n",
       "102  2014  92.995763\n",
       "103  2015  92.914646\n",
       "104  2016  93.992140\n",
       "105  2017  94.460961\n",
       "106  2018  94.635678\n",
       "107  2019  93.410413\n",
       "108  2020  93.976562"
      ]
     },
     "execution_count": 3,
     "metadata": {},
     "output_type": "execute_result"
    }
   ],
   "source": [
    "# Determine the average runtime of movies released since 2012\n",
    "movies_gpby = movies_ott.groupby(['Year'])['Runtime'].agg('mean').reset_index()\n",
    "movies_gpby[movies_gpby['Year'] >= 2012]"
   ]
  },
  {
   "cell_type": "markdown",
   "id": "dcd0ac6f",
   "metadata": {},
   "source": [
    "# 3. What are the best and worst reviews that movies released each year received on Rotten Tomatoes"
   ]
  },
  {
   "cell_type": "code",
   "execution_count": 7,
   "id": "a3a028e4",
   "metadata": {},
   "outputs": [
    {
     "data": {
      "text/html": [
       "<div>\n",
       "<style scoped>\n",
       "    .dataframe tbody tr th:only-of-type {\n",
       "        vertical-align: middle;\n",
       "    }\n",
       "\n",
       "    .dataframe tbody tr th {\n",
       "        vertical-align: top;\n",
       "    }\n",
       "\n",
       "    .dataframe thead th {\n",
       "        text-align: right;\n",
       "    }\n",
       "</style>\n",
       "<table border=\"1\" class=\"dataframe\">\n",
       "  <thead>\n",
       "    <tr style=\"text-align: right;\">\n",
       "      <th></th>\n",
       "      <th>Year</th>\n",
       "      <th>min</th>\n",
       "      <th>max</th>\n",
       "    </tr>\n",
       "  </thead>\n",
       "  <tbody>\n",
       "    <tr>\n",
       "      <th>101</th>\n",
       "      <td>2013</td>\n",
       "      <td>0.02</td>\n",
       "      <td>1.0</td>\n",
       "    </tr>\n",
       "    <tr>\n",
       "      <th>102</th>\n",
       "      <td>2014</td>\n",
       "      <td>0.05</td>\n",
       "      <td>1.0</td>\n",
       "    </tr>\n",
       "    <tr>\n",
       "      <th>103</th>\n",
       "      <td>2015</td>\n",
       "      <td>0.05</td>\n",
       "      <td>1.0</td>\n",
       "    </tr>\n",
       "    <tr>\n",
       "      <th>104</th>\n",
       "      <td>2016</td>\n",
       "      <td>0.02</td>\n",
       "      <td>1.0</td>\n",
       "    </tr>\n",
       "    <tr>\n",
       "      <th>105</th>\n",
       "      <td>2017</td>\n",
       "      <td>0.04</td>\n",
       "      <td>1.0</td>\n",
       "    </tr>\n",
       "    <tr>\n",
       "      <th>106</th>\n",
       "      <td>2018</td>\n",
       "      <td>0.06</td>\n",
       "      <td>1.0</td>\n",
       "    </tr>\n",
       "    <tr>\n",
       "      <th>107</th>\n",
       "      <td>2019</td>\n",
       "      <td>0.05</td>\n",
       "      <td>1.0</td>\n",
       "    </tr>\n",
       "    <tr>\n",
       "      <th>108</th>\n",
       "      <td>2020</td>\n",
       "      <td>0.06</td>\n",
       "      <td>1.0</td>\n",
       "    </tr>\n",
       "  </tbody>\n",
       "</table>\n",
       "</div>"
      ],
      "text/plain": [
       "     Year   min  max\n",
       "101  2013  0.02  1.0\n",
       "102  2014  0.05  1.0\n",
       "103  2015  0.05  1.0\n",
       "104  2016  0.02  1.0\n",
       "105  2017  0.04  1.0\n",
       "106  2018  0.06  1.0\n",
       "107  2019  0.05  1.0\n",
       "108  2020  0.06  1.0"
      ]
     },
     "execution_count": 7,
     "metadata": {},
     "output_type": "execute_result"
    }
   ],
   "source": [
    "# Determine what was the maximum and minimum review received by Rotten Tomatoes for any movie per year since 2012?\n",
    "movies_gpby = movies_ott.groupby(['Year'])['Rotten Tomatoes'].agg(['min', 'max']).reset_index()\n",
    "movies_gpby[movies_gpby['Year'] > 2012]"
   ]
  },
  {
   "cell_type": "code",
   "execution_count": null,
   "id": "85d248bc",
   "metadata": {},
   "outputs": [],
   "source": []
  }
 ],
 "metadata": {
  "kernelspec": {
   "display_name": "Python 3 (ipykernel)",
   "language": "python",
   "name": "python3"
  },
  "language_info": {
   "codemirror_mode": {
    "name": "ipython",
    "version": 3
   },
   "file_extension": ".py",
   "mimetype": "text/x-python",
   "name": "python",
   "nbconvert_exporter": "python",
   "pygments_lexer": "ipython3",
   "version": "3.9.13"
  }
 },
 "nbformat": 4,
 "nbformat_minor": 5
}
